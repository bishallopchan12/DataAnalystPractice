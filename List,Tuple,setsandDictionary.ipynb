{
  "nbformat": 4,
  "nbformat_minor": 0,
  "metadata": {
    "colab": {
      "provenance": [],
      "authorship_tag": "ABX9TyPwwMIRQ3ptoQ4gy/DdDB2z",
      "include_colab_link": true
    },
    "kernelspec": {
      "name": "python3",
      "display_name": "Python 3"
    },
    "language_info": {
      "name": "python"
    }
  },
  "cells": [
    {
      "cell_type": "markdown",
      "metadata": {
        "id": "view-in-github",
        "colab_type": "text"
      },
      "source": [
        "<a href=\"https://colab.research.google.com/github/bishallopchan12/DataAnalystPractice/blob/main/List%2CTuple%2CsetsandDictionary.ipynb\" target=\"_parent\"><img src=\"https://colab.research.google.com/assets/colab-badge.svg\" alt=\"Open In Colab\"/></a>"
      ]
    },
    {
      "cell_type": "code",
      "execution_count": null,
      "metadata": {
        "colab": {
          "base_uri": "https://localhost:8080/"
        },
        "id": "5E0TQT6XBFJD",
        "outputId": "687f8fe0-e658-49fd-94d4-8ba3dd59005a"
      },
      "outputs": [
        {
          "output_type": "stream",
          "name": "stdout",
          "text": [
            "<class 'list'>\n",
            "10758344\n",
            "136997884368752\n",
            "10758024\n"
          ]
        }
      ],
      "source": [
        "#List-is flexible jate chainxa tete store garxa -it is convenient, heterogenous hunxa alag alag data type store garna sakinxa\n",
        "#speed execution little bit slow and also occupies more space and memory\n",
        "L=[20,\"Bishal\",10]\n",
        "print(type(L))\n",
        "print(id(L[0]))\n",
        "print(id(L[1]))\n",
        "print(id(L[2]))"
      ]
    },
    {
      "cell_type": "code",
      "source": [
        "a=2\n",
        "print(id(a))\n",
        "\n",
        "a=[\"Bishal\"]"
      ],
      "metadata": {
        "colab": {
          "base_uri": "https://localhost:8080/"
        },
        "id": "-Ahw-ESgFohw",
        "outputId": "07854865-838f-4815-eee1-4ef565338f72"
      },
      "execution_count": null,
      "outputs": [
        {
          "output_type": "stream",
          "name": "stdout",
          "text": [
            "10757768\n"
          ]
        }
      ]
    },
    {
      "cell_type": "code",
      "source": [
        "#empty list\n",
        "\n",
        "print([])\n",
        "\n",
        "#1D\n",
        "L=[1,2,3]\n",
        "print(L)\n",
        "\n",
        "#2D\n",
        "print([1,2,1,[21,45]])\n",
        "\n",
        "#3D\n",
        "print([[[1,2,3]]],[3,5],[3,2,1])\n",
        "#Hetrogenous list\n",
        "print([1,2,\"My bishal\",5.7,4+51])\n",
        "\n",
        "print(list(\"hello\"))"
      ],
      "metadata": {
        "colab": {
          "base_uri": "https://localhost:8080/"
        },
        "id": "qIywxBe6LYGw",
        "outputId": "236f6e55-3597-430b-8421-53b42ed28150"
      },
      "execution_count": null,
      "outputs": [
        {
          "output_type": "stream",
          "name": "stdout",
          "text": [
            "[]\n",
            "[1, 2, 3]\n",
            "[1, 2, 1, [21, 45]]\n",
            "[[[1, 2, 3]]] [3, 5] [3, 2, 1]\n",
            "[1, 2, 'My bishal', 5.7, 55]\n",
            "['h', 'e', 'l', 'l', 'o']\n"
          ]
        }
      ]
    },
    {
      "cell_type": "markdown",
      "source": [
        "Accessing items from the list"
      ],
      "metadata": {
        "id": "sF-zAknOM_Pk"
      }
    },
    {
      "cell_type": "code",
      "source": [
        "#indexing\n",
        "L=[1,2,3,[4,5]]\n",
        "print(L[-1][-2])\n",
        "A=[[[1,2],[3,4]],[[5,6],[7,8]]]\n",
        "print(A[-2][-1][-2])\n",
        "\n",
        "\n",
        "#slicing\n",
        "\n",
        "L=[1,2,3,4,5,6]\n",
        "print(L[-3::1])"
      ],
      "metadata": {
        "colab": {
          "base_uri": "https://localhost:8080/"
        },
        "id": "TdYKmGviNFPx",
        "outputId": "49c783d0-6625-4c8e-8893-db28075eb184"
      },
      "execution_count": null,
      "outputs": [
        {
          "output_type": "stream",
          "name": "stdout",
          "text": [
            "4\n",
            "3\n",
            "[4, 5, 6]\n"
          ]
        }
      ]
    },
    {
      "cell_type": "code",
      "source": [
        "#append\n",
        "L=[1,2,3]\n",
        "L.append([1,2,3,4])\n",
        "print(L)"
      ],
      "metadata": {
        "colab": {
          "base_uri": "https://localhost:8080/"
        },
        "id": "8su1StLuWCGS",
        "outputId": "4bd5469f-b12a-407a-9157-9172d1fc312c"
      },
      "execution_count": null,
      "outputs": [
        {
          "output_type": "stream",
          "name": "stdout",
          "text": [
            "[1, 2, 3, [1, 2, 3, 4]]\n"
          ]
        }
      ]
    },
    {
      "cell_type": "code",
      "source": [
        "#extend\n",
        "L=[1,2,3,4,5]\n",
        "\n",
        "L.extend([6,7,8])\n",
        "print(L)"
      ],
      "metadata": {
        "colab": {
          "base_uri": "https://localhost:8080/"
        },
        "id": "nybfULIFWJp9",
        "outputId": "99efc2cd-a192-4da4-cfe7-5e0e6b0090fc"
      },
      "execution_count": null,
      "outputs": [
        {
          "output_type": "stream",
          "name": "stdout",
          "text": [
            "[1, 2, 3, 4, 5, 6, 7, 8]\n"
          ]
        }
      ]
    },
    {
      "cell_type": "code",
      "source": [
        "#insert\n",
        "L=[1,2,3,4,5]\n",
        "L.insert(1,10)\n",
        "print(L)"
      ],
      "metadata": {
        "colab": {
          "base_uri": "https://localhost:8080/"
        },
        "id": "V4wxrmCIXHm3",
        "outputId": "c688ff0c-d55b-4d51-ad9f-4167bfaeb804"
      },
      "execution_count": null,
      "outputs": [
        {
          "output_type": "stream",
          "name": "stdout",
          "text": [
            "[1, 10, 2, 3, 4, 5]\n"
          ]
        }
      ]
    },
    {
      "cell_type": "markdown",
      "source": [
        "Editing items in a list"
      ],
      "metadata": {
        "id": "sxd2bDy0XgF2"
      }
    },
    {
      "cell_type": "code",
      "source": [
        "L=[1,2,3,4,5]\n",
        "#editing with indexing\n",
        "L[-1]=600\n",
        "\n",
        "L[1:4]=[200,200,300]\n",
        "print(L)"
      ],
      "metadata": {
        "colab": {
          "base_uri": "https://localhost:8080/"
        },
        "id": "rOupFX7cXikz",
        "outputId": "9f04bd29-98d3-4889-a373-7096b9207bc5"
      },
      "execution_count": null,
      "outputs": [
        {
          "output_type": "stream",
          "name": "stdout",
          "text": [
            "[1, 200, 200, 300, 600]\n"
          ]
        }
      ]
    },
    {
      "cell_type": "code",
      "source": [
        "#deleting items from the list\n",
        "\n",
        "#del\n",
        "L=[1,2,3,4,5]\n",
        "\n",
        "#indexing\n",
        "del(L[-1])\n",
        "\n",
        "#slicing\n",
        "del L[1:3]\n",
        "print(L)"
      ],
      "metadata": {
        "colab": {
          "base_uri": "https://localhost:8080/"
        },
        "id": "isWx6ymbX6ul",
        "outputId": "bb340659-a5f4-491f-e8d8-cc37d93de985"
      },
      "execution_count": null,
      "outputs": [
        {
          "output_type": "stream",
          "name": "stdout",
          "text": [
            "[1, 4]\n"
          ]
        }
      ]
    },
    {
      "cell_type": "code",
      "source": [
        "#remove\n",
        "\n",
        "L=[1,2,3,4,5]\n",
        "L.remove(2)\n",
        "print(L)"
      ],
      "metadata": {
        "colab": {
          "base_uri": "https://localhost:8080/"
        },
        "id": "37z3peXqZQEa",
        "outputId": "588f6fe9-e4c8-4392-d12c-2726990bfd58"
      },
      "execution_count": null,
      "outputs": [
        {
          "output_type": "stream",
          "name": "stdout",
          "text": [
            "[1, 3, 4, 5]\n"
          ]
        }
      ]
    },
    {
      "cell_type": "code",
      "source": [
        "#pop\n",
        "L=[1,2,3,4,5]\n",
        "L.pop()\n",
        "print(L)\n"
      ],
      "metadata": {
        "colab": {
          "base_uri": "https://localhost:8080/"
        },
        "id": "hUHqPAElZTS3",
        "outputId": "b1d490a9-4331-402c-a8aa-2ff1e0e5faa0"
      },
      "execution_count": null,
      "outputs": [
        {
          "output_type": "stream",
          "name": "stdout",
          "text": [
            "[1, 2, 3, 4]\n"
          ]
        }
      ]
    },
    {
      "cell_type": "code",
      "source": [
        "#clear\n",
        "L=[1,2,3,4,5]\n",
        "L.clear()\n",
        "print(L)"
      ],
      "metadata": {
        "colab": {
          "base_uri": "https://localhost:8080/"
        },
        "id": "DzgAqtEgZFUI",
        "outputId": "d80251c1-f511-430d-eda5-0cc881c09505"
      },
      "execution_count": null,
      "outputs": [
        {
          "output_type": "stream",
          "name": "stdout",
          "text": [
            "[]\n"
          ]
        }
      ]
    },
    {
      "cell_type": "markdown",
      "source": [
        "Operators on List\n",
        "\n",
        "\n",
        "1.   Arithmetic\n",
        "2.   Membership\n",
        "3.   Loop\n",
        "\n",
        "\n",
        "\n"
      ],
      "metadata": {
        "id": "k6FN-5FmlukP"
      }
    },
    {
      "cell_type": "code",
      "source": [
        "#Arithmetic(+,*)\n",
        "\n",
        "L1=[1,2,3,4,5]\n",
        "L2=[6,7,8,9,10]\n",
        "#Concatenation/Merge\n",
        "print(L1+L2)\n",
        "#Repeat\n",
        "print(L1*3)"
      ],
      "metadata": {
        "colab": {
          "base_uri": "https://localhost:8080/"
        },
        "id": "n4umU8ZEluZf",
        "outputId": "a35fd29e-bc7e-4301-b0d8-c99dec201deb"
      },
      "execution_count": null,
      "outputs": [
        {
          "output_type": "stream",
          "name": "stdout",
          "text": [
            "[1, 2, 3, 4, 5, 6, 7, 8, 9, 10]\n",
            "[1, 2, 3, 4, 5, 1, 2, 3, 4, 5, 1, 2, 3, 4, 5]\n"
          ]
        }
      ]
    },
    {
      "cell_type": "code",
      "source": [
        "#Membership operator\n",
        "\n",
        "L1=[1,2,3,4,5]\n",
        "L2=[1,2,3,4,[5,6]]\n",
        "print(1 in L1)\n",
        "print([5,6] in L2)"
      ],
      "metadata": {
        "colab": {
          "base_uri": "https://localhost:8080/"
        },
        "id": "dnjOH_EpmLrM",
        "outputId": "93274750-1cd0-4556-e1e5-9d59a956b661"
      },
      "execution_count": null,
      "outputs": [
        {
          "output_type": "stream",
          "name": "stdout",
          "text": [
            "True\n",
            "True\n"
          ]
        }
      ]
    },
    {
      "cell_type": "code",
      "source": [
        "#Loops\n",
        "L1=[1,2,3,4,5]\n",
        "L2=[1,2,3,4,[5,6]]\n",
        "for i in L2:\n",
        "  print(i)\n",
        "A=[[[1,2],[3,4]],[[5,6],[7,8]]]\n",
        "for i in A:\n",
        "  print(i)\n"
      ],
      "metadata": {
        "colab": {
          "base_uri": "https://localhost:8080/"
        },
        "id": "SpB2zbHsm-av",
        "outputId": "e56df2d3-b8ca-4741-c845-ae7bb7b5e990"
      },
      "execution_count": null,
      "outputs": [
        {
          "output_type": "stream",
          "name": "stdout",
          "text": [
            "1\n",
            "2\n",
            "3\n",
            "4\n",
            "[5, 6]\n",
            "[[1, 2], [3, 4]]\n",
            "[[5, 6], [7, 8]]\n"
          ]
        }
      ]
    },
    {
      "cell_type": "code",
      "source": [
        "#List functions\n",
        "L=[2,1,5,6,7,0]\n",
        "print(len(L))\n",
        "print(min(L))\n",
        "print(max(L))\n",
        "print(sorted(L))\n",
        "print(sum(L))"
      ],
      "metadata": {
        "colab": {
          "base_uri": "https://localhost:8080/"
        },
        "id": "ePuKK4pPnkPO",
        "outputId": "50e7d366-9f9f-40d9-a0ce-45cad4867732"
      },
      "execution_count": null,
      "outputs": [
        {
          "output_type": "stream",
          "name": "stdout",
          "text": [
            "6\n",
            "0\n",
            "7\n",
            "[0, 1, 2, 5, 6, 7]\n",
            "21\n"
          ]
        }
      ]
    },
    {
      "cell_type": "code",
      "source": [
        "#count\n",
        "L=[1,2,3,4,5]\n",
        "L.count(5)"
      ],
      "metadata": {
        "colab": {
          "base_uri": "https://localhost:8080/"
        },
        "id": "I7zr7lzen_SF",
        "outputId": "cd197fb5-a3ce-4987-8747-e1242916486a"
      },
      "execution_count": null,
      "outputs": [
        {
          "output_type": "execute_result",
          "data": {
            "text/plain": [
              "1"
            ]
          },
          "metadata": {},
          "execution_count": 18
        }
      ]
    },
    {
      "cell_type": "code",
      "source": [
        "#index\n",
        "L=[1,2,3,4,5]\n",
        "L.index(5)"
      ],
      "metadata": {
        "colab": {
          "base_uri": "https://localhost:8080/"
        },
        "id": "Ez0OkTVbnccU",
        "outputId": "55cf0294-34e4-402f-fa7e-0ab93d71a419"
      },
      "execution_count": null,
      "outputs": [
        {
          "output_type": "execute_result",
          "data": {
            "text/plain": [
              "4"
            ]
          },
          "metadata": {},
          "execution_count": 19
        }
      ]
    },
    {
      "cell_type": "code",
      "source": [
        "#reverse\n",
        "L=[1,2,3,4,5]\n",
        "\n",
        "#permanently reverse the list\n",
        "L.reverse()\n",
        "print(L)"
      ],
      "metadata": {
        "colab": {
          "base_uri": "https://localhost:8080/"
        },
        "id": "VsC0RBNLm0pz",
        "outputId": "839371c6-cdaa-474d-a80a-ddf4f6417107"
      },
      "execution_count": null,
      "outputs": [
        {
          "output_type": "stream",
          "name": "stdout",
          "text": [
            "[5, 4, 3, 2, 1]\n"
          ]
        }
      ]
    },
    {
      "cell_type": "code",
      "source": [
        "#sorted or sort\n",
        "L=[1,2,3,4,5,10,2,4,5,6,8]\n",
        "print(sorted(L))\n",
        "print(L)\n",
        "L.sort()\n",
        "print(L)\n",
        "\n"
      ],
      "metadata": {
        "colab": {
          "base_uri": "https://localhost:8080/"
        },
        "id": "NckV2uPUokGC",
        "outputId": "81634a90-3c4d-44f8-d100-c3d7cbfca1f5"
      },
      "execution_count": null,
      "outputs": [
        {
          "output_type": "stream",
          "name": "stdout",
          "text": [
            "[1, 2, 2, 3, 4, 4, 5, 5, 6, 8, 10]\n",
            "[1, 2, 3, 4, 5, 10, 2, 4, 5, 6, 8]\n",
            "[1, 2, 2, 3, 4, 4, 5, 5, 6, 8, 10]\n"
          ]
        }
      ]
    },
    {
      "cell_type": "code",
      "source": [
        "#copy\n",
        "L=[1,2,3,4,5]\n",
        "L.copy()\n",
        "print(L)\n",
        "print(id(L))\n",
        "\n",
        "L1=L.copy()\n",
        "print(id(L1))"
      ],
      "metadata": {
        "colab": {
          "base_uri": "https://localhost:8080/"
        },
        "id": "uphwkw2_o1iO",
        "outputId": "9e7520c7-c6f0-466b-f234-e9da9d7c0b1d"
      },
      "execution_count": null,
      "outputs": [
        {
          "output_type": "stream",
          "name": "stdout",
          "text": [
            "[1, 2, 3, 4, 5]\n",
            "138843180335424\n",
            "138843877900224\n"
          ]
        }
      ]
    },
    {
      "cell_type": "markdown",
      "source": [
        "List Comprehension\n",
        "- It providess a concise waty of creating lists"
      ],
      "metadata": {
        "id": "HL_k8JZNq8bJ"
      }
    },
    {
      "cell_type": "code",
      "source": [
        "#Add 1 to 10 numbers in a list\n",
        "L=[]\n",
        "for i in range(1,11):\n",
        "  L.append(i)\n",
        "print(L)"
      ],
      "metadata": {
        "colab": {
          "base_uri": "https://localhost:8080/"
        },
        "id": "K20wnrxQrCPZ",
        "outputId": "d0a6d2c4-7db2-42a6-c87f-3bf734cd0cc4"
      },
      "execution_count": null,
      "outputs": [
        {
          "output_type": "stream",
          "name": "stdout",
          "text": [
            "[1, 2, 3, 4, 5, 6, 7, 8, 9, 10]\n"
          ]
        }
      ]
    },
    {
      "cell_type": "code",
      "source": [
        "L=[i for i in range(1,11)]\n",
        "print(L)"
      ],
      "metadata": {
        "colab": {
          "base_uri": "https://localhost:8080/"
        },
        "id": "BZlT4MWcrYT2",
        "outputId": "12bef25d-db17-4788-9f64-867010c8f231"
      },
      "execution_count": null,
      "outputs": [
        {
          "output_type": "stream",
          "name": "stdout",
          "text": [
            "[1, 2, 3, 4, 5, 6, 7, 8, 9, 10]\n"
          ]
        }
      ]
    },
    {
      "cell_type": "code",
      "source": [
        "#Scalar multiplication on a vector\n",
        "v=[2,3,4]\n",
        "s=-3\n",
        "[s*i for i in v]\n"
      ],
      "metadata": {
        "colab": {
          "base_uri": "https://localhost:8080/"
        },
        "id": "5ldfBma4ri1Z",
        "outputId": "d6eb380b-4c0a-4d44-a4e7-2b401ad08c7e"
      },
      "execution_count": null,
      "outputs": [
        {
          "output_type": "execute_result",
          "data": {
            "text/plain": [
              "[-6, -9, -12]"
            ]
          },
          "metadata": {},
          "execution_count": 39
        }
      ]
    },
    {
      "cell_type": "code",
      "source": [
        "#add Squares\n",
        "L=[1,2,3,4,5]\n",
        "[i**2 for i in L]\n"
      ],
      "metadata": {
        "colab": {
          "base_uri": "https://localhost:8080/"
        },
        "id": "IAk_sGcIsr90",
        "outputId": "3dc0d4d7-c93b-4f73-dd06-d9c924b031d8"
      },
      "execution_count": null,
      "outputs": [
        {
          "output_type": "execute_result",
          "data": {
            "text/plain": [
              "[1, 4, 9, 16, 25]"
            ]
          },
          "metadata": {},
          "execution_count": 41
        }
      ]
    },
    {
      "cell_type": "code",
      "source": [
        "#print all the numbers divisible by 5 in the range of 1 to 50\n",
        "\n",
        "L=[number for number in range(1,51) if number%5==0]\n",
        "print(L)\n"
      ],
      "metadata": {
        "colab": {
          "base_uri": "https://localhost:8080/"
        },
        "id": "T_DdLJWgs-oK",
        "outputId": "107e6296-c063-47d9-f14c-ca881978fb79"
      },
      "execution_count": null,
      "outputs": [
        {
          "output_type": "stream",
          "name": "stdout",
          "text": [
            "[5, 10, 15, 20, 25, 30, 35, 40, 45, 50]\n"
          ]
        }
      ]
    },
    {
      "cell_type": "code",
      "source": [
        "#find the languages which start with letter p\n",
        "\n",
        "languages=['java','python','php','c']\n",
        "\n",
        "[language for language in languages if language.startswith('p')]"
      ],
      "metadata": {
        "colab": {
          "base_uri": "https://localhost:8080/"
        },
        "id": "Cqc06BN5tgpp",
        "outputId": "bf69e254-8ac4-4c11-d910-979c28bc49b1"
      },
      "execution_count": null,
      "outputs": [
        {
          "output_type": "execute_result",
          "data": {
            "text/plain": [
              "['python', 'php']"
            ]
          },
          "metadata": {},
          "execution_count": 47
        }
      ]
    },
    {
      "cell_type": "code",
      "source": [
        "#Print all even numbers from 1 to 100 using list comprehension.\n",
        "[number for number in range(1,101) if number%2==0]"
      ],
      "metadata": {
        "colab": {
          "base_uri": "https://localhost:8080/"
        },
        "id": "RpmFeYgNuOUG",
        "outputId": "3024e5e3-2793-4a8e-93cc-fb35b1d6d48f"
      },
      "execution_count": null,
      "outputs": [
        {
          "output_type": "execute_result",
          "data": {
            "text/plain": [
              "[2,\n",
              " 4,\n",
              " 6,\n",
              " 8,\n",
              " 10,\n",
              " 12,\n",
              " 14,\n",
              " 16,\n",
              " 18,\n",
              " 20,\n",
              " 22,\n",
              " 24,\n",
              " 26,\n",
              " 28,\n",
              " 30,\n",
              " 32,\n",
              " 34,\n",
              " 36,\n",
              " 38,\n",
              " 40,\n",
              " 42,\n",
              " 44,\n",
              " 46,\n",
              " 48,\n",
              " 50,\n",
              " 52,\n",
              " 54,\n",
              " 56,\n",
              " 58,\n",
              " 60,\n",
              " 62,\n",
              " 64,\n",
              " 66,\n",
              " 68,\n",
              " 70,\n",
              " 72,\n",
              " 74,\n",
              " 76,\n",
              " 78,\n",
              " 80,\n",
              " 82,\n",
              " 84,\n",
              " 86,\n",
              " 88,\n",
              " 90,\n",
              " 92,\n",
              " 94,\n",
              " 96,\n",
              " 98,\n",
              " 100]"
            ]
          },
          "metadata": {},
          "execution_count": 49
        }
      ]
    },
    {
      "cell_type": "code",
      "source": [
        "#Print all numbers from 1 to 50 that are divisible by 3.\n",
        "\n",
        "[numbers for numbers in range(1,51) if numbers%3==0]"
      ],
      "metadata": {
        "colab": {
          "base_uri": "https://localhost:8080/"
        },
        "id": "1Vvq_sH8uiQQ",
        "outputId": "d9201d5f-9414-4819-e145-27e516096c30"
      },
      "execution_count": null,
      "outputs": [
        {
          "output_type": "execute_result",
          "data": {
            "text/plain": [
              "[3, 6, 9, 12, 15, 18, 21, 24, 27, 30, 33, 36, 39, 42, 45, 48]"
            ]
          },
          "metadata": {},
          "execution_count": 51
        }
      ]
    },
    {
      "cell_type": "code",
      "source": [
        "#Print all numbers from 1 to 100 that are both divisible by 2 and 3.\n",
        "\n",
        "[numbers for numbers in range(1,101) if numbers%2==0 and numbers%3==0]"
      ],
      "metadata": {
        "colab": {
          "base_uri": "https://localhost:8080/"
        },
        "id": "Gf-IXLIjuum-",
        "outputId": "cde2c859-c3f5-4e43-c934-e1fc6c157b05"
      },
      "execution_count": null,
      "outputs": [
        {
          "output_type": "execute_result",
          "data": {
            "text/plain": [
              "[6, 12, 18, 24, 30, 36, 42, 48, 54, 60, 66, 72, 78, 84, 90, 96]"
            ]
          },
          "metadata": {},
          "execution_count": 52
        }
      ]
    },
    {
      "cell_type": "code",
      "source": [
        "#Print all numbers from 1 to 100 that are not divisible by 5.\n",
        "[numbers for numbers in range(1,101) if numbers%5!=0]"
      ],
      "metadata": {
        "colab": {
          "base_uri": "https://localhost:8080/"
        },
        "id": "SIB5lrQtu51o",
        "outputId": "4c0af1f5-acc8-4f02-f2a6-fa35aed8ccb0"
      },
      "execution_count": null,
      "outputs": [
        {
          "output_type": "execute_result",
          "data": {
            "text/plain": [
              "[1,\n",
              " 2,\n",
              " 3,\n",
              " 4,\n",
              " 6,\n",
              " 7,\n",
              " 8,\n",
              " 9,\n",
              " 11,\n",
              " 12,\n",
              " 13,\n",
              " 14,\n",
              " 16,\n",
              " 17,\n",
              " 18,\n",
              " 19,\n",
              " 21,\n",
              " 22,\n",
              " 23,\n",
              " 24,\n",
              " 26,\n",
              " 27,\n",
              " 28,\n",
              " 29,\n",
              " 31,\n",
              " 32,\n",
              " 33,\n",
              " 34,\n",
              " 36,\n",
              " 37,\n",
              " 38,\n",
              " 39,\n",
              " 41,\n",
              " 42,\n",
              " 43,\n",
              " 44,\n",
              " 46,\n",
              " 47,\n",
              " 48,\n",
              " 49,\n",
              " 51,\n",
              " 52,\n",
              " 53,\n",
              " 54,\n",
              " 56,\n",
              " 57,\n",
              " 58,\n",
              " 59,\n",
              " 61,\n",
              " 62,\n",
              " 63,\n",
              " 64,\n",
              " 66,\n",
              " 67,\n",
              " 68,\n",
              " 69,\n",
              " 71,\n",
              " 72,\n",
              " 73,\n",
              " 74,\n",
              " 76,\n",
              " 77,\n",
              " 78,\n",
              " 79,\n",
              " 81,\n",
              " 82,\n",
              " 83,\n",
              " 84,\n",
              " 86,\n",
              " 87,\n",
              " 88,\n",
              " 89,\n",
              " 91,\n",
              " 92,\n",
              " 93,\n",
              " 94,\n",
              " 96,\n",
              " 97,\n",
              " 98,\n",
              " 99]"
            ]
          },
          "metadata": {},
          "execution_count": 54
        }
      ]
    },
    {
      "cell_type": "code",
      "source": [
        "#Create a list of cubes of all odd numbers between 1 and 30.\n",
        "\n",
        "[numbers**3 for numbers in range(1,31) if numbers%2!=0]"
      ],
      "metadata": {
        "colab": {
          "base_uri": "https://localhost:8080/"
        },
        "id": "geIwuoIivFCf",
        "outputId": "5b079150-5099-4926-e259-1eebe4ae1eae"
      },
      "execution_count": null,
      "outputs": [
        {
          "output_type": "execute_result",
          "data": {
            "text/plain": [
              "[1,\n",
              " 27,\n",
              " 125,\n",
              " 343,\n",
              " 729,\n",
              " 1331,\n",
              " 2197,\n",
              " 3375,\n",
              " 4913,\n",
              " 6859,\n",
              " 9261,\n",
              " 12167,\n",
              " 15625,\n",
              " 19683,\n",
              " 24389]"
            ]
          },
          "metadata": {},
          "execution_count": 59
        }
      ]
    },
    {
      "cell_type": "code",
      "source": [
        "#Nested if with list comprehension\n",
        "basket=[\"apple\",\"guava\",\"cherry\",\"banana\"]\n",
        "my_fruits=[\"apple\",\"kiwi\",'grapes',\"banana\"]\n",
        "\n",
        "#add new list from my_fruits and items if the fruit exists in basket and alaso starts with a\n",
        "\n",
        "\n",
        "[fruit for fruit in my_fruits if fruit in basket if fruit.startswith('a')]\n"
      ],
      "metadata": {
        "colab": {
          "base_uri": "https://localhost:8080/"
        },
        "id": "H6yFYcSA8QwM",
        "outputId": "e9a23662-8bdf-4bd3-aeb1-74f1bb9a7bd2"
      },
      "execution_count": null,
      "outputs": [
        {
          "output_type": "execute_result",
          "data": {
            "text/plain": [
              "['apple']"
            ]
          },
          "metadata": {},
          "execution_count": 61
        }
      ]
    },
    {
      "cell_type": "code",
      "source": [
        "#Print a 3*3 matrix usinh list comprehension -> nested loop comprehension\n",
        "\n",
        "[[i*j for i in range(1,4)]for j in range(1,4)]\n"
      ],
      "metadata": {
        "colab": {
          "base_uri": "https://localhost:8080/"
        },
        "id": "VWGEDULw83n2",
        "outputId": "4d68ba5a-a80f-43fb-f365-090341f55634"
      },
      "execution_count": null,
      "outputs": [
        {
          "output_type": "execute_result",
          "data": {
            "text/plain": [
              "[[1, 2, 3], [2, 4, 6], [3, 6, 9]]"
            ]
          },
          "metadata": {},
          "execution_count": 63
        }
      ]
    },
    {
      "cell_type": "code",
      "source": [
        "#cartesian products -> List comprehension on 2 list integer\n",
        "L1=[1,2,3,4]\n",
        "L2=[5,6,7,8]\n",
        "\n",
        "[[i*j for i in L1 for j in L2]]"
      ],
      "metadata": {
        "colab": {
          "base_uri": "https://localhost:8080/"
        },
        "id": "iHJ9fKox9Vnd",
        "outputId": "4d44a502-e63d-4dcd-dd21-bb7a8765f4c9"
      },
      "execution_count": null,
      "outputs": [
        {
          "output_type": "execute_result",
          "data": {
            "text/plain": [
              "[[5, 6, 7, 8, 10, 12, 14, 16, 15, 18, 21, 24, 20, 24, 28, 32]]"
            ]
          },
          "metadata": {},
          "execution_count": 64
        }
      ]
    },
    {
      "cell_type": "code",
      "source": [
        "#2 ways to traverse a list\n",
        "#itemwise\n",
        "L=[1,2,3,4]\n",
        "for i in L:\n",
        "  print(i)\n",
        "\n",
        "#indexwise\n",
        "L=[1,2,3,4]\n",
        "for i in range(0,len(L)):\n",
        "  print(i)\n",
        "\n"
      ],
      "metadata": {
        "colab": {
          "base_uri": "https://localhost:8080/"
        },
        "id": "VYgGAuQv9sro",
        "outputId": "a530d3ab-748e-4832-bc05-9db01a06e2a7"
      },
      "execution_count": null,
      "outputs": [
        {
          "output_type": "stream",
          "name": "stdout",
          "text": [
            "1\n",
            "2\n",
            "3\n",
            "4\n",
            "0\n",
            "1\n",
            "2\n",
            "3\n"
          ]
        }
      ]
    },
    {
      "cell_type": "markdown",
      "source": [
        "Zip function\n",
        "it return a zip object which is an iterator of tuples whre the first item in each passed iterator is paired togetger, and then the seconf item in each passed iterator are paired together"
      ],
      "metadata": {
        "id": "T5LKAGZg-cl0"
      }
    },
    {
      "cell_type": "code",
      "source": [
        "#wap to add items of 2 lists indexwise\n",
        "\n",
        "L1=[1,2,3,4]\n",
        "L2=[-1,-2,-3,-4]\n",
        "list(zip(L1,L2))\n",
        "\n",
        "\n",
        "[i+j for i,j in zip(L1,L2)]"
      ],
      "metadata": {
        "colab": {
          "base_uri": "https://localhost:8080/"
        },
        "id": "IV5EEpFm-qSj",
        "outputId": "c0bd3147-abc6-40c0-9d87-91552c68d7c4"
      },
      "execution_count": null,
      "outputs": [
        {
          "output_type": "execute_result",
          "data": {
            "text/plain": [
              "[0, 0, 0, 0]"
            ]
          },
          "metadata": {},
          "execution_count": 72
        }
      ]
    },
    {
      "cell_type": "code",
      "source": [
        "L=[1,2,print,type,input]\n",
        "print(L)"
      ],
      "metadata": {
        "colab": {
          "base_uri": "https://localhost:8080/"
        },
        "id": "0aVDNhcp_O4X",
        "outputId": "70ebb93c-1079-4b77-ce57-9714e76f3ef3"
      },
      "execution_count": null,
      "outputs": [
        {
          "output_type": "stream",
          "name": "stdout",
          "text": [
            "[1, 2, <built-in function print>, <class 'type'>, <bound method Kernel.raw_input of <google.colab._kernel.Kernel object at 0x7e473e2198d0>>]\n"
          ]
        }
      ]
    },
    {
      "cell_type": "markdown",
      "source": [
        "Disadvantages of python lists\n",
        "\n",
        "\n",
        "1.  Slow\n",
        "2.  Risky usage\n",
        "3. eats up more memory\n"
      ],
      "metadata": {
        "id": "OUxz7C-g_fPy"
      }
    },
    {
      "cell_type": "markdown",
      "source": [
        "Tuples,sets and dictionary"
      ],
      "metadata": {
        "id": "eWP9fbn4He98"
      }
    },
    {
      "cell_type": "code",
      "source": [
        "#Creating tuples\n",
        "\n",
        "#empty\n",
        "t1=()\n",
        "print(t1)\n",
        "\n",
        "#Create a tuple with a single item\n",
        "t2=(2)\n",
        "print(type(t2) )\n",
        "\n",
        "#homo\n",
        "t3=(1,2,3,4)\n",
        "print(t3)\n",
        "#hetro\n",
        "t4=(1,2,3,4.5,6),True,[1,2,3]\n",
        "print(t4)\n",
        "\n",
        "#tuple\n",
        "t5=(1,2,3,4,(5,6))\n",
        "print(t5)\n",
        "\n",
        "#using type conversion\n",
        "t6= tuple(\"hello\")\n",
        "print(t6)"
      ],
      "metadata": {
        "colab": {
          "base_uri": "https://localhost:8080/"
        },
        "id": "Btz7RzMuHk20",
        "outputId": "f945eeec-40e8-4b7b-cf9e-a54da94d73a4"
      },
      "execution_count": null,
      "outputs": [
        {
          "output_type": "stream",
          "name": "stdout",
          "text": [
            "()\n",
            "<class 'int'>\n",
            "(1, 2, 3, 4)\n",
            "((1, 2, 3, 4.5, 6), True, [1, 2, 3])\n",
            "(1, 2, 3, 4, (5, 6))\n",
            "('h', 'e', 'l', 'l', 'o')\n"
          ]
        }
      ]
    },
    {
      "cell_type": "markdown",
      "source": [
        "Accessing Items\n",
        "\n",
        "\n",
        "*   Indexing\n",
        "*   Slicing\n",
        "\n"
      ],
      "metadata": {
        "id": "Pax49SFgJ74b"
      }
    },
    {
      "cell_type": "code",
      "source": [
        "\n",
        "print(t3)\n",
        "print(t3[0])\n",
        "print(t3[-1])"
      ],
      "metadata": {
        "colab": {
          "base_uri": "https://localhost:8080/"
        },
        "id": "LoQyWE2XJy19",
        "outputId": "1b6892a1-050c-42d6-9fa3-2641c0a922e2"
      },
      "execution_count": null,
      "outputs": [
        {
          "output_type": "stream",
          "name": "stdout",
          "text": [
            "(1, 2, 3, 4)\n",
            "1\n",
            "4\n"
          ]
        }
      ]
    },
    {
      "cell_type": "code",
      "source": [
        "print(t3[::-1])"
      ],
      "metadata": {
        "colab": {
          "base_uri": "https://localhost:8080/"
        },
        "id": "IHMprHaEKL0P",
        "outputId": "231fffdf-9f16-44f5-ab21-1e027b7e73f3"
      },
      "execution_count": null,
      "outputs": [
        {
          "output_type": "stream",
          "name": "stdout",
          "text": [
            "(4, 3, 2, 1)\n"
          ]
        }
      ]
    },
    {
      "cell_type": "code",
      "source": [
        "t5\n",
        "print(t5[-1][0])"
      ],
      "metadata": {
        "colab": {
          "base_uri": "https://localhost:8080/"
        },
        "id": "1AgAX-HwKYRN",
        "outputId": "d77af71b-1723-4bfd-bc84-b3efc28c2b86"
      },
      "execution_count": null,
      "outputs": [
        {
          "output_type": "stream",
          "name": "stdout",
          "text": [
            "5\n"
          ]
        }
      ]
    },
    {
      "cell_type": "markdown",
      "source": [
        "Editing Items\n"
      ],
      "metadata": {
        "id": "T7TI-Nu3NyE3"
      }
    },
    {
      "cell_type": "code",
      "source": [
        "print(t3)\n",
        "t3[0]=100\n",
        "#immuatble just like strings\n"
      ],
      "metadata": {
        "colab": {
          "base_uri": "https://localhost:8080/",
          "height": 193
        },
        "id": "fzjQGeWZN0Ot",
        "outputId": "f46e3867-58b1-4b05-cc2e-0ace3e9598e1"
      },
      "execution_count": null,
      "outputs": [
        {
          "output_type": "stream",
          "name": "stdout",
          "text": [
            "(1, 2, 3, 4)\n"
          ]
        },
        {
          "output_type": "error",
          "ename": "TypeError",
          "evalue": "'tuple' object does not support item assignment",
          "traceback": [
            "\u001b[0;31m---------------------------------------------------------------------------\u001b[0m",
            "\u001b[0;31mTypeError\u001b[0m                                 Traceback (most recent call last)",
            "\u001b[0;32m/tmp/ipython-input-21-2555314253.py\u001b[0m in \u001b[0;36m<cell line: 0>\u001b[0;34m()\u001b[0m\n\u001b[1;32m      1\u001b[0m \u001b[0mprint\u001b[0m\u001b[0;34m(\u001b[0m\u001b[0mt3\u001b[0m\u001b[0;34m)\u001b[0m\u001b[0;34m\u001b[0m\u001b[0;34m\u001b[0m\u001b[0m\n\u001b[0;32m----> 2\u001b[0;31m \u001b[0mt3\u001b[0m\u001b[0;34m[\u001b[0m\u001b[0;36m0\u001b[0m\u001b[0;34m]\u001b[0m\u001b[0;34m=\u001b[0m\u001b[0;36m100\u001b[0m\u001b[0;34m\u001b[0m\u001b[0;34m\u001b[0m\u001b[0m\n\u001b[0m\u001b[1;32m      3\u001b[0m \u001b[0;31m#immuatble just like strings\u001b[0m\u001b[0;34m\u001b[0m\u001b[0;34m\u001b[0m\u001b[0m\n",
            "\u001b[0;31mTypeError\u001b[0m: 'tuple' object does not support item assignment"
          ]
        }
      ]
    },
    {
      "cell_type": "markdown",
      "source": [
        "Adding Items\n"
      ],
      "metadata": {
        "id": "oWL-KXm6N_uu"
      }
    },
    {
      "cell_type": "code",
      "source": [
        "print(t3)\n",
        "#not possible\n"
      ],
      "metadata": {
        "colab": {
          "base_uri": "https://localhost:8080/"
        },
        "id": "-WDS3duqN_RG",
        "outputId": "74db021e-df9d-4213-9154-3688b4adaa60"
      },
      "execution_count": null,
      "outputs": [
        {
          "output_type": "stream",
          "name": "stdout",
          "text": [
            "(1, 2, 3, 4)\n"
          ]
        }
      ]
    },
    {
      "cell_type": "code",
      "source": [
        "#deleting items\n",
        "\n",
        "\n",
        "print(t5)\n",
        "\n",
        "t=(1,2,3,4,5)\n",
        "t[-1:-4:-1]\n"
      ],
      "metadata": {
        "colab": {
          "base_uri": "https://localhost:8080/"
        },
        "id": "nVyiG9LxOqiH",
        "outputId": "aa4d5095-a47d-4c25-fab7-fe8b4022f265"
      },
      "execution_count": null,
      "outputs": [
        {
          "output_type": "stream",
          "name": "stdout",
          "text": [
            "(1, 2, 3, 4, (5, 6))\n"
          ]
        },
        {
          "output_type": "execute_result",
          "data": {
            "text/plain": [
              "(5, 4, 3)"
            ]
          },
          "metadata": {},
          "execution_count": 27
        }
      ]
    },
    {
      "cell_type": "markdown",
      "source": [
        "Operations on Tuple\n"
      ],
      "metadata": {
        "id": "bbNiJ3ETPjy6"
      }
    },
    {
      "cell_type": "code",
      "source": [
        "#+ and *\n",
        "t1=(1,2,3,4)\n",
        "t2=(5,6,7,8)\n",
        "print(t1+t2)\n",
        "print(t1*3)\n",
        "#membership\n",
        "1 not in t1\n",
        "#iteration\n",
        "for i in t1:\n",
        "  print(i)"
      ],
      "metadata": {
        "colab": {
          "base_uri": "https://localhost:8080/"
        },
        "id": "LXUL-19DPlkQ",
        "outputId": "bac0ab83-ff1c-414b-ae54-d144853fd6a8"
      },
      "execution_count": null,
      "outputs": [
        {
          "output_type": "stream",
          "name": "stdout",
          "text": [
            "(1, 2, 3, 4, 5, 6, 7, 8)\n",
            "(1, 2, 3, 4, 1, 2, 3, 4, 1, 2, 3, 4)\n",
            "1\n",
            "2\n",
            "3\n",
            "4\n"
          ]
        }
      ]
    },
    {
      "cell_type": "markdown",
      "source": [
        "Tuple functions\n"
      ],
      "metadata": {
        "id": "eeBFgAuYQDMc"
      }
    },
    {
      "cell_type": "code",
      "source": [
        "#len/sum/min/max/sorted"
      ],
      "metadata": {
        "id": "UJiRiDg5QEu1"
      },
      "execution_count": null,
      "outputs": []
    },
    {
      "cell_type": "code",
      "source": [
        "t=(1,2,3,4)\n",
        "len(t)\n",
        "sum(t)\n",
        "min(t)\n",
        "max(t)\n",
        "sorted(t,reverse=True)"
      ],
      "metadata": {
        "colab": {
          "base_uri": "https://localhost:8080/"
        },
        "id": "U7OVwwVfQHPR",
        "outputId": "737c6415-d8be-4a6f-f9c6-2b14fb28f10c"
      },
      "execution_count": null,
      "outputs": [
        {
          "output_type": "execute_result",
          "data": {
            "text/plain": [
              "[4, 3, 2, 1]"
            ]
          },
          "metadata": {},
          "execution_count": 36
        }
      ]
    },
    {
      "cell_type": "code",
      "source": [
        "#count\n",
        "t=(1,2,4,5)\n",
        "t.count(5)\n",
        "\n",
        "#index\n",
        "t.index(5)"
      ],
      "metadata": {
        "colab": {
          "base_uri": "https://localhost:8080/"
        },
        "id": "o-Ej5y1jQbsL",
        "outputId": "822fe6e0-7ed7-4bf1-ad20-517c06903402"
      },
      "execution_count": null,
      "outputs": [
        {
          "output_type": "execute_result",
          "data": {
            "text/plain": [
              "3"
            ]
          },
          "metadata": {},
          "execution_count": 37
        }
      ]
    },
    {
      "cell_type": "code",
      "source": [
        "import time\n",
        "\n",
        "L=list(range(1000000))\n",
        "T=tuple(range(1000000))\n",
        "\n",
        "start=time.time()\n",
        "for i in L:\n",
        "  i*5\n",
        "print(time.time()-start)\n",
        "\n",
        "start=time.time()\n",
        "for i in T:\n",
        "  i*5\n",
        "print(time.time()-start)\n"
      ],
      "metadata": {
        "colab": {
          "base_uri": "https://localhost:8080/"
        },
        "id": "zeynh_QyQ5h7",
        "outputId": "dc1f25ad-75c1-4171-8200-bf3c7aee0ffd"
      },
      "execution_count": null,
      "outputs": [
        {
          "output_type": "stream",
          "name": "stdout",
          "text": [
            "0.06696414947509766\n",
            "0.06252336502075195\n"
          ]
        }
      ]
    },
    {
      "cell_type": "code",
      "source": [
        "#why use syntax\n",
        "\n",
        "\n",
        "#tuple unpacking\n",
        "\n",
        "a,b,c=(1,2,3)\n",
        "print(a,b,c)"
      ],
      "metadata": {
        "colab": {
          "base_uri": "https://localhost:8080/"
        },
        "id": "tGse5ENFRUP5",
        "outputId": "ef978501-d9d5-422c-e2eb-0540af8bcc02"
      },
      "execution_count": null,
      "outputs": [
        {
          "output_type": "stream",
          "name": "stdout",
          "text": [
            "1 2 3\n"
          ]
        }
      ]
    },
    {
      "cell_type": "code",
      "source": [
        "a=1\n",
        "b=3\n",
        "a,b=b,a\n",
        "print(a,b)"
      ],
      "metadata": {
        "colab": {
          "base_uri": "https://localhost:8080/"
        },
        "id": "jIwsm3XyRasl",
        "outputId": "2be39ecd-1881-4c7e-98f5-749dc89cdc9c"
      },
      "execution_count": null,
      "outputs": [
        {
          "output_type": "stream",
          "name": "stdout",
          "text": [
            "3 1\n"
          ]
        }
      ]
    },
    {
      "cell_type": "code",
      "source": [
        "a,b,*others=(1,2,3,4,5)\n",
        "print(a,b)\n",
        "print(others)"
      ],
      "metadata": {
        "colab": {
          "base_uri": "https://localhost:8080/"
        },
        "id": "3vsCX6aRSbYr",
        "outputId": "32d76015-f297-4024-ec8e-e589693d23f9"
      },
      "execution_count": null,
      "outputs": [
        {
          "output_type": "stream",
          "name": "stdout",
          "text": [
            "1 2\n",
            "[3, 4, 5]\n"
          ]
        }
      ]
    },
    {
      "cell_type": "code",
      "source": [
        "a,b,*dorje=(1,2,3,4,5)\n",
        "print(a,b)\n",
        "print(dorje )"
      ],
      "metadata": {
        "colab": {
          "base_uri": "https://localhost:8080/"
        },
        "id": "ztJjc1Z6Sqtb",
        "outputId": "54dcdaf0-758f-4c00-b599-6024c11bcb0e"
      },
      "execution_count": null,
      "outputs": [
        {
          "output_type": "stream",
          "name": "stdout",
          "text": [
            "1 2\n",
            "[3, 4, 5]\n"
          ]
        }
      ]
    },
    {
      "cell_type": "code",
      "source": [
        "#Zipping tuples\n",
        "\n",
        "\n",
        "a=(1,2,3,4)\n",
        "b=(5,6,7,8)\n",
        "zip(a,b)\n",
        "print(list(zip(a,b)))"
      ],
      "metadata": {
        "colab": {
          "base_uri": "https://localhost:8080/"
        },
        "id": "3ufrC1tRVDpL",
        "outputId": "f6779ff6-c9da-4d64-e306-6b71b662d261"
      },
      "execution_count": null,
      "outputs": [
        {
          "output_type": "stream",
          "name": "stdout",
          "text": [
            "[(1, 5), (2, 6), (3, 7), (4, 8)]\n"
          ]
        }
      ]
    },
    {
      "cell_type": "markdown",
      "source": [
        "Sets\n",
        "It is an unordered collection of items.\n",
        "Characteristics\n",
        "\n",
        "\n",
        "*   Unordered\n",
        "\n",
        "*   Mutable\n",
        "\n",
        " No Duplicates\n",
        "\n",
        "\n",
        " Cant contain mutable data types\n",
        "\n",
        "\n"
      ],
      "metadata": {
        "id": "HhQO5etkVbVc"
      }
    },
    {
      "cell_type": "code",
      "source": [
        "#Creating Sets\n",
        "\n",
        "#empty sets\n",
        "s=set()\n",
        "print(type(s))\n",
        "\n",
        "#1Dand2D\n",
        "\n",
        "s1={1,2,3,4}\n",
        "print(s1)\n",
        "print(type(s1))\n",
        "\n",
        "s2={1,2,3,(4,5)}\n",
        "print(s2)\n",
        "#homo and hetro\n",
        "\n",
        "s3={1,\"Bishal\",4.5,True}\n",
        "print(s3)\n",
        "\n",
        "\n",
        "#using type conversion\n",
        "s4=set(\"hello\")\n",
        "print(s4)\n",
        "\n",
        "#set cant have multiple items and duplicate data\n",
        "s5={1,2,3,4,1,2,3,4}\n",
        "print(s5)"
      ],
      "metadata": {
        "colab": {
          "base_uri": "https://localhost:8080/"
        },
        "id": "_UeiOsjaV4bC",
        "outputId": "b670a82c-b2a4-4c9b-de74-f113f17b26c4"
      },
      "execution_count": null,
      "outputs": [
        {
          "output_type": "stream",
          "name": "stdout",
          "text": [
            "<class 'set'>\n",
            "{1, 2, 3, 4}\n",
            "<class 'set'>\n",
            "{3, 1, (4, 5), 2}\n",
            "{1, 4.5, 'Bishal'}\n",
            "{'o', 'e', 'l', 'h'}\n",
            "{1, 2, 3, 4}\n"
          ]
        }
      ]
    },
    {
      "cell_type": "code",
      "source": [
        "s1={1,2,3}\n",
        "s2={3,2,1}\n",
        "print(s1==s2)"
      ],
      "metadata": {
        "colab": {
          "base_uri": "https://localhost:8080/"
        },
        "id": "t1OuuKuxaD84",
        "outputId": "bd24c1dd-cb09-4baa-e60d-7964b5a1def7"
      },
      "execution_count": null,
      "outputs": [
        {
          "output_type": "stream",
          "name": "stdout",
          "text": [
            "True\n"
          ]
        }
      ]
    },
    {
      "cell_type": "markdown",
      "source": [
        "Accessing Items\n"
      ],
      "metadata": {
        "id": "Gr3kcYtDaYef"
      }
    },
    {
      "cell_type": "code",
      "source": [
        "s={1,2,3,4}\n",
        "#add\n",
        "s.add(5)\n",
        "print(s)\n",
        "\n",
        "s.update([7,8,9])\n",
        "print(s)"
      ],
      "metadata": {
        "colab": {
          "base_uri": "https://localhost:8080/"
        },
        "id": "gNQEV33Aau76",
        "outputId": "6c4c1a46-adca-4f9c-a575-5ae6b2f24e17"
      },
      "execution_count": null,
      "outputs": [
        {
          "output_type": "stream",
          "name": "stdout",
          "text": [
            "{1, 2, 3, 4, 5}\n",
            "{1, 2, 3, 4, 5, 7, 8, 9}\n"
          ]
        }
      ]
    },
    {
      "cell_type": "code",
      "source": [
        "\n",
        "set doesnt support indexing so we cant access Items so edit ni garna miladina"
      ],
      "metadata": {
        "id": "4R1j22ZIaaOI"
      },
      "execution_count": null,
      "outputs": []
    },
    {
      "cell_type": "markdown",
      "source": [
        "Deleting Items"
      ],
      "metadata": {
        "id": "nniHUBIhbRAs"
      }
    },
    {
      "cell_type": "code",
      "source": [
        "#del\n",
        "s={1,2,3,4,5,6,7}\n",
        "print(s)\n",
        "\n",
        "#discard\n",
        "s.discard(5)\n",
        "print(s)\n",
        "\n",
        "#remove\n",
        "s.remove(4)\n",
        "print(s)\n",
        "\n",
        "#pop\n",
        "s.pop()\n",
        "print(s)\n",
        "\n",
        "#clear\n",
        "s.clear()\n",
        "print(s)"
      ],
      "metadata": {
        "colab": {
          "base_uri": "https://localhost:8080/"
        },
        "id": "0UWEITz3bTXF",
        "outputId": "58a818e5-5443-4d33-d0e5-def33e122c19"
      },
      "execution_count": null,
      "outputs": [
        {
          "output_type": "stream",
          "name": "stdout",
          "text": [
            "{1, 2, 3, 4, 5, 6, 7}\n",
            "{1, 2, 3, 4, 6, 7}\n",
            "{1, 2, 3, 6, 7}\n",
            "{2, 3, 6, 7}\n",
            "set()\n"
          ]
        }
      ]
    },
    {
      "cell_type": "code",
      "source": [
        "s1={1,2,3,4,5}\n",
        "s2={4,5,6,7,8}\n",
        "#union(|)\n",
        "s1 | s2\n",
        "\n",
        "#intersection(&)\n",
        "s1&s2\n",
        "#difference(-)\n",
        "s1-s2\n",
        "#symmetric difference\n",
        "s1^s2\n",
        "#membership Test\n",
        "1 not in s1\n",
        "#loop\n",
        "for i in s1:\n",
        "  print(i)\n"
      ],
      "metadata": {
        "colab": {
          "base_uri": "https://localhost:8080/"
        },
        "id": "I25FbWxASTpO",
        "outputId": "4c58e508-816b-4381-e2a4-472488293373"
      },
      "execution_count": null,
      "outputs": [
        {
          "output_type": "stream",
          "name": "stdout",
          "text": [
            "1\n",
            "2\n",
            "3\n",
            "4\n",
            "5\n"
          ]
        }
      ]
    },
    {
      "cell_type": "code",
      "source": [
        "#len/sum/min/max/sorted\n",
        "\n",
        "s={2,1,3,4,5,6,1}\n",
        "len(s)\n",
        "sum(s)\n",
        "min(s)\n",
        "max(s)\n",
        "sorted(s,reverse=True)"
      ],
      "metadata": {
        "colab": {
          "base_uri": "https://localhost:8080/"
        },
        "id": "epHK1YYmS9u0",
        "outputId": "a7e0e21e-9878-4e98-b466-91cccc73f3fa"
      },
      "execution_count": null,
      "outputs": [
        {
          "output_type": "execute_result",
          "data": {
            "text/plain": [
              "[6, 5, 4, 3, 2, 1]"
            ]
          },
          "metadata": {},
          "execution_count": 10
        }
      ]
    },
    {
      "cell_type": "code",
      "source": [
        "s1={1,2,3,4,5}\n",
        "s2={4,5,6,7,8}\n",
        "s1.union(s2)"
      ],
      "metadata": {
        "colab": {
          "base_uri": "https://localhost:8080/"
        },
        "id": "NZern9KH2s3_",
        "outputId": "f243349f-f4e2-4fdc-d79d-6cdf6b02d4e4"
      },
      "execution_count": null,
      "outputs": [
        {
          "output_type": "execute_result",
          "data": {
            "text/plain": [
              "{1, 2, 3, 4, 5, 6, 7, 8}"
            ]
          },
          "metadata": {},
          "execution_count": 4
        }
      ]
    },
    {
      "cell_type": "code",
      "source": [
        "s1={1,2,3,4,5}\n",
        "s2={4,5,6,7,8}\n",
        "s1.intersection(s2)\n",
        "s1.intersection_update(s2)\n",
        "print(s1)\n",
        "print(s2)\n"
      ],
      "metadata": {
        "colab": {
          "base_uri": "https://localhost:8080/"
        },
        "id": "fcCZbKS83ANX",
        "outputId": "269efae7-334c-4d1c-9b7f-a1535d6f8a5b"
      },
      "execution_count": null,
      "outputs": [
        {
          "output_type": "stream",
          "name": "stdout",
          "text": [
            "{4, 5}\n",
            "{4, 5, 6, 7, 8}\n"
          ]
        }
      ]
    },
    {
      "cell_type": "code",
      "source": [
        "s1={1,2,3,4,5}\n",
        "s2={4,5,6,7,8}\n",
        "s1.difference(s2)\n",
        "s1.difference_update(s2)\n",
        "print(s1)\n",
        "print(s2)\n"
      ],
      "metadata": {
        "colab": {
          "base_uri": "https://localhost:8080/"
        },
        "id": "hOunWsyE3WnE",
        "outputId": "b5127a30-a451-465d-9133-cfb5fa338b5f"
      },
      "execution_count": null,
      "outputs": [
        {
          "output_type": "stream",
          "name": "stdout",
          "text": [
            "{1, 2, 3}\n",
            "{4, 5, 6, 7, 8}\n"
          ]
        }
      ]
    },
    {
      "cell_type": "code",
      "source": [
        "s1={1,2,3,4,5}\n",
        "s2={4,5,6,7,8}\n",
        "s1.symmetric_difference(s2)\n",
        "s1.symmetric_difference_update(s2)\n",
        "print(s1)\n",
        "print(s2)\n"
      ],
      "metadata": {
        "colab": {
          "base_uri": "https://localhost:8080/"
        },
        "id": "ioE3Xx2W3cNp",
        "outputId": "483ebfc9-13bd-4f0c-984b-1a001c2252a4"
      },
      "execution_count": null,
      "outputs": [
        {
          "output_type": "stream",
          "name": "stdout",
          "text": [
            "{1, 2, 3, 6, 7, 8}\n",
            "{4, 5, 6, 7, 8}\n"
          ]
        }
      ]
    },
    {
      "cell_type": "code",
      "source": [
        "#isdisjoint/issubset/issuperset\n",
        "\n",
        "s1={1,2,3}\n",
        "s2={4,5,6}\n",
        "s1.isdisjoint(s2)\n",
        "\n",
        "#issubset\n",
        "s1={1,2,3,4,5,6}\n",
        "s2={4,5,6}\n",
        "s2.issubset(s1)\n",
        "\n",
        "#issuperset\n",
        "s1.issuperset(s2)\n",
        "\n",
        "#copy\n",
        "s1={1,2,3}\n",
        "s2=s1.copy()\n",
        "print(s1)\n",
        "print(s2)"
      ],
      "metadata": {
        "colab": {
          "base_uri": "https://localhost:8080/"
        },
        "id": "Jp-pnf7a3yV5",
        "outputId": "be2f5ac6-8f4b-48b2-e2ce-70d3bb58468e"
      },
      "execution_count": null,
      "outputs": [
        {
          "output_type": "stream",
          "name": "stdout",
          "text": [
            "{1, 2, 3}\n",
            "{1, 2, 3}\n"
          ]
        }
      ]
    },
    {
      "cell_type": "markdown",
      "source": [
        "Frozenset\n",
        "it is just an immutable version of a python set object"
      ],
      "metadata": {
        "id": "GmNjPDnA4U9v"
      }
    },
    {
      "cell_type": "code",
      "source": [
        "fs1=frozenset([1,2,3])\n",
        "fs2=frozenset([1,2,3,4,5])\n",
        "fs1|fs2"
      ],
      "metadata": {
        "colab": {
          "base_uri": "https://localhost:8080/"
        },
        "id": "SSxUZX6a4bch",
        "outputId": "15bb5b19-41ed-41cc-d222-3164a41cd510"
      },
      "execution_count": null,
      "outputs": [
        {
          "output_type": "execute_result",
          "data": {
            "text/plain": [
              "frozenset({1, 2, 3, 4, 5})"
            ]
          },
          "metadata": {},
          "execution_count": 19
        }
      ]
    },
    {
      "cell_type": "code",
      "source": [
        "#2D frozenset\n",
        "fs1=frozenset([1,2,3])\n",
        "fs2=frozenset([1,2,3,4,5])\n",
        "fs3=frozenset([fs1,fs2])\n",
        "print(fs3)\n",
        "#"
      ],
      "metadata": {
        "colab": {
          "base_uri": "https://localhost:8080/"
        },
        "id": "evZCHkYe5art",
        "outputId": "5d87316a-4016-4850-e28a-b029a04a4042"
      },
      "execution_count": null,
      "outputs": [
        {
          "output_type": "stream",
          "name": "stdout",
          "text": [
            "frozenset({frozenset({1, 2, 3}), frozenset({1, 2, 3, 4, 5})})\n"
          ]
        }
      ]
    },
    {
      "cell_type": "code",
      "source": [
        "#Set comprehension\n",
        "{i**2 for i in range(1,10) if i>5 }"
      ],
      "metadata": {
        "colab": {
          "base_uri": "https://localhost:8080/"
        },
        "id": "BAk52i3X5q_N",
        "outputId": "0fde4c98-d9d0-49a3-c8e3-89861d16f5df"
      },
      "execution_count": null,
      "outputs": [
        {
          "output_type": "execute_result",
          "data": {
            "text/plain": [
              "{36, 49, 64, 81}"
            ]
          },
          "metadata": {},
          "execution_count": 24
        }
      ]
    },
    {
      "cell_type": "markdown",
      "source": [
        "Dictionary\n",
        "Dictionary in python is a collection of key valyes,used to store data values like a map,which unclike other data types which hold a only a single value as an element."
      ],
      "metadata": {
        "id": "goPFI8UI5_yI"
      }
    },
    {
      "cell_type": "markdown",
      "source": [
        "Create dictionary"
      ],
      "metadata": {
        "id": "475nUwTq7pNh"
      }
    },
    {
      "cell_type": "code",
      "source": [
        "#empty dictionary\n",
        "d={}\n",
        "d\n",
        "#1D dictionary\n",
        "d1={'name':\"Bishal lama\" ,'gender':'male'\n",
        "}\n",
        "d1\n",
        "\n",
        "#with mixed keys\n",
        "d2={(1,2,3,4):1,\"hello\":\"world\"}\n",
        "d2\n",
        "#2D dictionary\n",
        "s={\n",
        "    'name':\"Bishal\",\n",
        "    'college':'acem',\n",
        "    \"semester\":\"eight\",\n",
        "    'subjects':{\n",
        "        'IS':70,\n",
        "        'Multimedia':90,\n",
        "        'project2':91,\n",
        "        'OR':90\n",
        "    }\n",
        "}\n",
        "s\n",
        "#using sequence and dict function\n",
        "\n",
        "d4=dict([('name',\"bishal\"),(\"roll\",8),('age',23)])\n",
        "d4\n",
        "#duplicate\n",
        "d5={\n",
        "    'name':\"bishal\",\n",
        "    'name':\"bishaldai\"\n",
        "}\n",
        "d5\n",
        "\n",
        "#mutable item as keys\n",
        "d6={'name':'Bishal',(1,2,3):4\n",
        "}\n",
        "d6"
      ],
      "metadata": {
        "colab": {
          "base_uri": "https://localhost:8080/"
        },
        "id": "dlXC-K267rBl",
        "outputId": "16575760-8880-4b76-cda1-e1b7d5bb88c9"
      },
      "execution_count": null,
      "outputs": [
        {
          "output_type": "execute_result",
          "data": {
            "text/plain": [
              "{'name': 'Bishal', (1, 2, 3): 4}"
            ]
          },
          "metadata": {},
          "execution_count": 38
        }
      ]
    },
    {
      "cell_type": "markdown",
      "source": [
        "Accessing Items"
      ],
      "metadata": {
        "id": "yLmXyET9-TcN"
      }
    },
    {
      "cell_type": "code",
      "source": [
        "my_dict={'name':\"Bishal\",'age':24}\n",
        "my_dict['name']\n",
        "#get\n",
        "my_dict.get('age')\n",
        "s['subjects']['OR']"
      ],
      "metadata": {
        "colab": {
          "base_uri": "https://localhost:8080/"
        },
        "id": "UUpnUYWq-VJq",
        "outputId": "91953848-9b22-4361-99b1-720c57043627"
      },
      "execution_count": null,
      "outputs": [
        {
          "output_type": "execute_result",
          "data": {
            "text/plain": [
              "90"
            ]
          },
          "metadata": {},
          "execution_count": 59
        }
      ]
    },
    {
      "cell_type": "markdown",
      "source": [
        "Adding key value pair"
      ],
      "metadata": {
        "id": "ZYp0ihEA-yfm"
      }
    },
    {
      "cell_type": "code",
      "source": [
        "d4['gender']='male'\n",
        "d4\n",
        "d4['weight']=65\n",
        "d4\n",
        "s\n",
        "s['subjects']['Ds']=79\n",
        "s"
      ],
      "metadata": {
        "colab": {
          "base_uri": "https://localhost:8080/"
        },
        "id": "d5Nl_X69-2ep",
        "outputId": "6caaacaa-2f4f-41fb-e2f0-6705ffc09ed6"
      },
      "execution_count": null,
      "outputs": [
        {
          "output_type": "execute_result",
          "data": {
            "text/plain": [
              "{'name': 'Bishal',\n",
              " 'college': 'acem',\n",
              " 'semester': 'eight',\n",
              " 'subjects': {'IS': 70, 'Multimedia': 90, 'project2': 91, 'OR': 90, 'Ds': 79}}"
            ]
          },
          "metadata": {},
          "execution_count": 61
        }
      ]
    },
    {
      "cell_type": "markdown",
      "source": [
        "Remove key-value pair\n"
      ],
      "metadata": {
        "id": "XWK3U9sM_J-A"
      }
    },
    {
      "cell_type": "code",
      "source": [
        "d={'name': 'bishal', 'roll': 8, 'age': 23, 'gender': 'male', 'weight': 65}\n",
        "\n",
        "#pop\n",
        "d.pop('weight')\n",
        "\n",
        "d\n",
        "\n",
        "#popItem\n",
        "d.popitem()\n",
        "d\n",
        "\n",
        "#del\n",
        "\n",
        "del d['name']\n",
        "d\n",
        "#clear\n",
        "d.clear()\n",
        "d\n"
      ],
      "metadata": {
        "colab": {
          "base_uri": "https://localhost:8080/"
        },
        "id": "UFFcw3af_MzJ",
        "outputId": "3b5e46c9-8ce1-4451-bc19-9ba6690a5c31"
      },
      "execution_count": null,
      "outputs": [
        {
          "output_type": "execute_result",
          "data": {
            "text/plain": [
              "{}"
            ]
          },
          "metadata": {},
          "execution_count": 56
        }
      ]
    },
    {
      "cell_type": "markdown",
      "source": [
        "Editing Key Value Pair"
      ],
      "metadata": {
        "id": "MxOzqX8_D0m_"
      }
    },
    {
      "cell_type": "code",
      "source": [
        "s['semester']=7\n",
        "s['subjects']['OR']=80\n",
        "s"
      ],
      "metadata": {
        "colab": {
          "base_uri": "https://localhost:8080/"
        },
        "id": "AMfwubujD7YB",
        "outputId": "3da20353-35e4-4530-b2a8-a4c44404c275"
      },
      "execution_count": null,
      "outputs": [
        {
          "output_type": "execute_result",
          "data": {
            "text/plain": [
              "{'name': 'Bishal',\n",
              " 'college': 'acem',\n",
              " 'semester': 7,\n",
              " 'subjects': {'IS': 70, 'Multimedia': 90, 'project2': 91, 'OR': 80, 'Ds': 79}}"
            ]
          },
          "metadata": {},
          "execution_count": 67
        }
      ]
    },
    {
      "cell_type": "code",
      "source": [
        "print(s)\n",
        "'Bishal'in s['name']"
      ],
      "metadata": {
        "colab": {
          "base_uri": "https://localhost:8080/"
        },
        "id": "2KgvRjS3EXQT",
        "outputId": "42a4c081-f765-4b18-daba-80e8ac4a5b18"
      },
      "execution_count": null,
      "outputs": [
        {
          "output_type": "stream",
          "name": "stdout",
          "text": [
            "{'name': 'Bishal', 'college': 'acem', 'semester': 7, 'subjects': {'IS': 70, 'Multimedia': 90, 'project2': 91, 'OR': 80, 'Ds': 79}}\n"
          ]
        },
        {
          "output_type": "execute_result",
          "data": {
            "text/plain": [
              "True"
            ]
          },
          "metadata": {},
          "execution_count": 70
        }
      ]
    },
    {
      "cell_type": "markdown",
      "source": [
        "Dictionary operation\n",
        "only membership and iteration"
      ],
      "metadata": {
        "id": "dzpafFeSERt2"
      }
    },
    {
      "cell_type": "code",
      "source": [
        "d={\n",
        "    'name':\"Bishal\",\n",
        "    'address':\"satdobato\",\n",
        "    'gender':\"male\",\n",
        "    'age':23\n",
        "}\n",
        "for i in d:\n",
        "  print(i,d[i])"
      ],
      "metadata": {
        "colab": {
          "base_uri": "https://localhost:8080/"
        },
        "id": "1KpUZiMeEsnN",
        "outputId": "79818057-1c90-4645-a1fd-0d21ec8f2188"
      },
      "execution_count": null,
      "outputs": [
        {
          "output_type": "stream",
          "name": "stdout",
          "text": [
            "name Bishal\n",
            "address satdobato\n",
            "gender male\n",
            "age 23\n"
          ]
        }
      ]
    },
    {
      "cell_type": "markdown",
      "source": [
        "Dictinary Function"
      ],
      "metadata": {
        "id": "Cekw-bIXFNl7"
      }
    },
    {
      "cell_type": "code",
      "source": [
        "#len/sorted\n",
        "len(d)\n",
        "print(d)\n",
        "sorted(d,reverse=True)\n",
        "max(d)"
      ],
      "metadata": {
        "colab": {
          "base_uri": "https://localhost:8080/",
          "height": 53
        },
        "id": "LYtxOEgPFNRT",
        "outputId": "40d23377-38ec-4143-cf0f-884c114ea97d"
      },
      "execution_count": null,
      "outputs": [
        {
          "output_type": "stream",
          "name": "stdout",
          "text": [
            "{'name': 'Bishal', 'address': 'satdobato', 'gender': 'male', 'age': 23}\n"
          ]
        },
        {
          "output_type": "execute_result",
          "data": {
            "text/plain": [
              "'name'"
            ],
            "application/vnd.google.colaboratory.intrinsic+json": {
              "type": "string"
            }
          },
          "metadata": {},
          "execution_count": 3
        }
      ]
    },
    {
      "cell_type": "code",
      "source": [
        "#items/keys/values\n",
        "print(d)\n",
        "print(d.items())\n",
        "print(d.keys())\n",
        "print(d.values())"
      ],
      "metadata": {
        "colab": {
          "base_uri": "https://localhost:8080/"
        },
        "id": "YbvlCVR2zbzN",
        "outputId": "e4986056-86b1-408e-cc65-6b157cfdb307"
      },
      "execution_count": null,
      "outputs": [
        {
          "output_type": "stream",
          "name": "stdout",
          "text": [
            "{'name': 'Bishal', 'address': 'satdobato', 'gender': 'male', 'age': 23}\n",
            "dict_items([('name', 'Bishal'), ('address', 'satdobato'), ('gender', 'male'), ('age', 23)])\n",
            "dict_keys(['name', 'address', 'gender', 'age'])\n",
            "dict_values(['Bishal', 'satdobato', 'male', 23])\n"
          ]
        }
      ]
    },
    {
      "cell_type": "code",
      "source": [
        "#update\n",
        "\n",
        "d1={\n",
        "\n",
        "    1:2,\n",
        "    3:4,\n",
        "    5:7\n",
        "}\n",
        "d2={\n",
        "    4:7,6:8\n",
        "}\n",
        "d1.update(d2)\n",
        "print(d1)\n",
        "print(d2)"
      ],
      "metadata": {
        "colab": {
          "base_uri": "https://localhost:8080/"
        },
        "id": "nI7RBe1iz-dV",
        "outputId": "dc2bd6d2-8e88-4e5b-ed73-17acd9bde8fb"
      },
      "execution_count": null,
      "outputs": [
        {
          "output_type": "stream",
          "name": "stdout",
          "text": [
            "{1: 2, 3: 4, 5: 7, 4: 7, 6: 8}\n",
            "{4: 7, 6: 8}\n"
          ]
        }
      ]
    },
    {
      "cell_type": "markdown",
      "source": [
        "Dictironary Comprehension\n",
        "\n",
        "{key:value for vars in iterable}\n",
        "\n",
        "\n",
        "\n",
        "\n"
      ],
      "metadata": {
        "id": "UhOkMhfe0Z0n"
      }
    },
    {
      "cell_type": "code",
      "source": [
        "#Dictionary comprehensuon\n",
        "#print 1st 10 numbers and their squares\n",
        "\n",
        "\n",
        "{i:i**2 for i in range(1,11)}"
      ],
      "metadata": {
        "colab": {
          "base_uri": "https://localhost:8080/"
        },
        "id": "u9z0eTed0cmq",
        "outputId": "741940ba-9fd9-480b-c9b5-4c76ad7539e6"
      },
      "execution_count": null,
      "outputs": [
        {
          "output_type": "execute_result",
          "data": {
            "text/plain": [
              "{1: 1, 2: 4, 3: 9, 4: 16, 5: 25, 6: 36, 7: 49, 8: 64, 9: 81, 10: 100}"
            ]
          },
          "metadata": {},
          "execution_count": 10
        }
      ]
    },
    {
      "cell_type": "code",
      "source": [
        "#Using existing comprehension\n",
        "distance={'kathamndu':1000,\"lalitpur\":1212,\"Pokhara\":1222}\n",
        "{key:value for (key,value) in distance.items() if value>1000}"
      ],
      "metadata": {
        "colab": {
          "base_uri": "https://localhost:8080/"
        },
        "id": "H8-4ZJd61FSr",
        "outputId": "7a23fe2c-aacf-4843-9cd8-92de968830cd"
      },
      "execution_count": null,
      "outputs": [
        {
          "output_type": "execute_result",
          "data": {
            "text/plain": [
              "{'lalitpur': 1212, 'Pokhara': 1222}"
            ]
          },
          "metadata": {},
          "execution_count": 11
        }
      ]
    },
    {
      "cell_type": "code",
      "source": [
        "#using zip\n",
        "days=[\"Sunday\",\"Monday\",\"Tuesday\",\"Wednesday\",\"Thursday\",\"Friday\",\"Saturday\"]\n",
        "temp_c=[30.5,32.6,31.8,33.4,29.8,30.2,29.9]\n",
        "{i:j for (i,j) in zip(days,temp_c)}"
      ],
      "metadata": {
        "colab": {
          "base_uri": "https://localhost:8080/"
        },
        "id": "OatjyFzD3MnR",
        "outputId": "400f79e2-acd7-4892-af09-5a46a39bcc45"
      },
      "execution_count": null,
      "outputs": [
        {
          "output_type": "execute_result",
          "data": {
            "text/plain": [
              "{'Sunday': 30.5,\n",
              " 'Monday': 32.6,\n",
              " 'Tuesday': 31.8,\n",
              " 'Wednesday': 33.4,\n",
              " 'Thursday': 29.8,\n",
              " 'Friday': 30.2,\n",
              " 'Saturday': 29.9}"
            ]
          },
          "metadata": {},
          "execution_count": 15
        }
      ]
    },
    {
      "cell_type": "code",
      "source": [
        "#using if condition\n",
        "products={\n",
        "    'phone':10,\n",
        "    'laptop':0,\n",
        "    'charger':50,\n",
        "    'tablet':20\n",
        "}\n",
        "{key:value for (key,value) in products.items() if value>0}\n"
      ],
      "metadata": {
        "colab": {
          "base_uri": "https://localhost:8080/"
        },
        "id": "Iw71IWHE4ECA",
        "outputId": "e47bbda9-6e5b-4ccd-acfa-c83404c3fb80"
      },
      "execution_count": null,
      "outputs": [
        {
          "output_type": "execute_result",
          "data": {
            "text/plain": [
              "{'phone': 10, 'charger': 50, 'tablet': 20}"
            ]
          },
          "metadata": {},
          "execution_count": 16
        }
      ]
    },
    {
      "cell_type": "code",
      "source": [
        "#Nested Comprehension\n",
        "#Print tables of number from 2 to 4\n",
        "\n",
        "\n",
        "{i:{j:i*j for j in range(1,11)} for i in range(2,5)}\n",
        "\n"
      ],
      "metadata": {
        "colab": {
          "base_uri": "https://localhost:8080/"
        },
        "id": "l00nfoRY4UdW",
        "outputId": "354e2419-b296-493d-d315-3eaf66bb691d"
      },
      "execution_count": null,
      "outputs": [
        {
          "output_type": "execute_result",
          "data": {
            "text/plain": [
              "{2: {1: 2, 2: 4, 3: 6, 4: 8, 5: 10, 6: 12, 7: 14, 8: 16, 9: 18, 10: 20},\n",
              " 3: {1: 3, 2: 6, 3: 9, 4: 12, 5: 15, 6: 18, 7: 21, 8: 24, 9: 27, 10: 30},\n",
              " 4: {1: 4, 2: 8, 3: 12, 4: 16, 5: 20, 6: 24, 7: 28, 8: 32, 9: 36, 10: 40}}"
            ]
          },
          "metadata": {},
          "execution_count": 18
        }
      ]
    }
  ]
}