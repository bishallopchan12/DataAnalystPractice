{
  "nbformat": 4,
  "nbformat_minor": 0,
  "metadata": {
    "colab": {
      "provenance": [],
      "authorship_tag": "ABX9TyNkZDeJS5m8uD1aNjFp06gO",
      "include_colab_link": true
    },
    "kernelspec": {
      "name": "python3",
      "display_name": "Python 3"
    },
    "language_info": {
      "name": "python"
    }
  },
  "cells": [
    {
      "cell_type": "markdown",
      "metadata": {
        "id": "view-in-github",
        "colab_type": "text"
      },
      "source": [
        "<a href=\"https://colab.research.google.com/github/bishallopchan12/DataAnalystPractice/blob/main/Untitled0.ipynb\" target=\"_parent\"><img src=\"https://colab.research.google.com/assets/colab-badge.svg\" alt=\"Open In Colab\"/></a>"
      ]
    },
    {
      "cell_type": "code",
      "source": [
        "def is_even(num):\n",
        "  \"\"\"This function returns if a given number is odd or even\n",
        "  input-any valid integer\n",
        "  output-odd/even\n",
        "  created on-16th NOv 2022\n",
        "  \"\"\"\n",
        "  if type(num)==int:\n",
        "    if num %2==0:\n",
        "      return \"even\"\n",
        "    else:\n",
        "        return \"odd\"\n",
        "  else:\n",
        "    return \"please enter a valid integer\""
      ],
      "metadata": {
        "id": "9uQ8H7WRP0rl"
      },
      "execution_count": null,
      "outputs": []
    },
    {
      "cell_type": "code",
      "source": [
        "#function\n",
        "#function_name(output)\n",
        "\n",
        "for i in range(1,11):\n",
        "  x=is_even(i)\n",
        "  print(x)\n"
      ],
      "metadata": {
        "colab": {
          "base_uri": "https://localhost:8080/"
        },
        "id": "dEQrr5-BQO3E",
        "outputId": "07d0c6e8-9b8f-4f2f-e658-3664a441eacf"
      },
      "execution_count": null,
      "outputs": [
        {
          "output_type": "stream",
          "name": "stdout",
          "text": [
            "odd\n",
            "even\n",
            "odd\n",
            "even\n",
            "odd\n",
            "even\n",
            "odd\n",
            "even\n",
            "odd\n",
            "even\n"
          ]
        }
      ]
    },
    {
      "cell_type": "code",
      "source": [
        "is_even(\"hello\")"
      ],
      "metadata": {
        "colab": {
          "base_uri": "https://localhost:8080/",
          "height": 35
        },
        "id": "LDCjjmqFRALh",
        "outputId": "2eb83789-c536-4d4e-c15f-8c35ebb7cbec"
      },
      "execution_count": null,
      "outputs": [
        {
          "output_type": "execute_result",
          "data": {
            "text/plain": [
              "'please enter a valid integer'"
            ],
            "application/vnd.google.colaboratory.intrinsic+json": {
              "type": "string"
            }
          },
          "metadata": {},
          "execution_count": 20
        }
      ]
    },
    {
      "cell_type": "markdown",
      "source": [
        "Types of Arguments\n",
        "\n",
        "\n",
        "1.   Default Argument\n",
        "2.  Positional Argument\n",
        "3.  Keyword Argument\n",
        "\n"
      ],
      "metadata": {
        "id": "rDW16X-KiGrp"
      }
    },
    {
      "cell_type": "code",
      "source": [
        "#default argument\n",
        "def power(a=1,b=1):\n",
        "  return a**b"
      ],
      "metadata": {
        "id": "RL4XeUoiiPlO"
      },
      "execution_count": null,
      "outputs": []
    },
    {
      "cell_type": "code",
      "source": [
        "power(6)"
      ],
      "metadata": {
        "colab": {
          "base_uri": "https://localhost:8080/"
        },
        "id": "hSTkRQPgiVSV",
        "outputId": "5a4491c0-d8cc-4071-e765-55cea0cd4931"
      },
      "execution_count": null,
      "outputs": [
        {
          "output_type": "execute_result",
          "data": {
            "text/plain": [
              "6"
            ]
          },
          "metadata": {},
          "execution_count": 28
        }
      ]
    },
    {
      "cell_type": "code",
      "source": [
        "#positional argument\n",
        "power(2,3)"
      ],
      "metadata": {
        "colab": {
          "base_uri": "https://localhost:8080/"
        },
        "id": "YzilpWmZiRq5",
        "outputId": "7e8f931c-5d33-4056-85ab-0def762b23a2"
      },
      "execution_count": null,
      "outputs": [
        {
          "output_type": "execute_result",
          "data": {
            "text/plain": [
              "8"
            ]
          },
          "metadata": {},
          "execution_count": 30
        }
      ]
    },
    {
      "cell_type": "code",
      "source": [
        "#keyword argument-is more values than positional argument\n",
        "power(b=3,a=2)"
      ],
      "metadata": {
        "colab": {
          "base_uri": "https://localhost:8080/"
        },
        "id": "Zc8QCauTnD5w",
        "outputId": "6acb90ca-3cbe-48de-d91c-e95166c28473"
      },
      "execution_count": null,
      "outputs": [
        {
          "output_type": "execute_result",
          "data": {
            "text/plain": [
              "8"
            ]
          },
          "metadata": {},
          "execution_count": 34
        }
      ]
    },
    {
      "cell_type": "markdown",
      "source": [
        "*args and **kwargs are special python keywords that are used to pass the variable length of argument to a function.\n"
      ],
      "metadata": {
        "id": "QBNfkexhn2oj"
      }
    },
    {
      "cell_type": "code",
      "source": [
        "# *args\n",
        "#allows us to pass a variable number of non-keyword arguments to a function\n",
        "\n",
        "def multiply(*args):\n",
        "  product =1\n",
        "  for i in args:\n",
        "    product= product*i\n",
        "\n",
        "  return product"
      ],
      "metadata": {
        "id": "OBAo5tzDoCc7"
      },
      "execution_count": null,
      "outputs": []
    },
    {
      "cell_type": "code",
      "source": [
        "multiply(2,4,3,32,21,12)"
      ],
      "metadata": {
        "colab": {
          "base_uri": "https://localhost:8080/"
        },
        "id": "xwmWBJEQoO8S",
        "outputId": "e57a8ba0-2b12-41bc-e657-ed3c63652d90"
      },
      "execution_count": null,
      "outputs": [
        {
          "output_type": "execute_result",
          "data": {
            "text/plain": [
              "193536"
            ]
          },
          "metadata": {},
          "execution_count": 49
        }
      ]
    },
    {
      "cell_type": "code",
      "source": [
        "print(is_even.__doc__)\n"
      ],
      "metadata": {
        "colab": {
          "base_uri": "https://localhost:8080/"
        },
        "id": "YhGx_E0dogSQ",
        "outputId": "4431d5fd-6f17-46a1-f015-0ef38326677c"
      },
      "execution_count": null,
      "outputs": [
        {
          "output_type": "stream",
          "name": "stdout",
          "text": [
            "This function returns if a given number is odd or even\n",
            "  input-any valid integer\n",
            "  output-odd/even\n",
            "  created on-16th NOv 2022\n",
            "  \n"
          ]
        }
      ]
    },
    {
      "cell_type": "code",
      "source": [
        "# **kwargs allows us to pass any nunver of keyword arguments\n",
        "# Keyword arguments mean that they contain a keyvalue-pair, like python dictionary.\n",
        "\n",
        "def display(**kwargs):\n",
        "  for (key,value) in kwargs.items():\n",
        "    print(key,\"->\",value)"
      ],
      "metadata": {
        "id": "ZiXRzMGiqZGp"
      },
      "execution_count": null,
      "outputs": []
    },
    {
      "cell_type": "code",
      "source": [
        "display(Nepal=\"Kathamndu\",srilanka='colombo',pokhara=\"Kaski\")"
      ],
      "metadata": {
        "colab": {
          "base_uri": "https://localhost:8080/"
        },
        "id": "w5Dhn1h4q7-b",
        "outputId": "ed55e7a4-f453-4347-e0db-ee64233dd59e"
      },
      "execution_count": null,
      "outputs": [
        {
          "output_type": "stream",
          "name": "stdout",
          "text": [
            "Nepal -> Kathamndu\n",
            "srilanka -> colombo\n",
            "pokhara -> Kaski\n"
          ]
        }
      ]
    },
    {
      "cell_type": "markdown",
      "source": [
        "Points to remember while using *args and **kwargs\n",
        "\n",
        "\n",
        "*   order of the arguments matter(normal-> *args-> **kwargs)\n",
        "* The words \"*args\" and \"**kwargs\" are only a convention,you can use any name of your choice\n",
        "\n"
      ],
      "metadata": {
        "id": "kTaJf7CNrXd4"
      }
    },
    {
      "cell_type": "markdown",
      "source": [
        "How functions are executed in memory?\n"
      ],
      "metadata": {
        "id": "Sp_Vk4cStYbD"
      }
    },
    {
      "cell_type": "code",
      "source": [
        "#Without return statement\n",
        "\n",
        "def is_even(num):\n",
        "  if num%2==0:\n",
        "    print(\"even\")\n",
        "  else:\n",
        "    print(\"odd\")\n",
        "print(is_even(7))\n",
        "\n",
        "\n",
        "L=[1,2,3]\n",
        "print(L.append(4))\n",
        "print(L)"
      ],
      "metadata": {
        "id": "EEs1n9VJrMZX",
        "colab": {
          "base_uri": "https://localhost:8080/"
        },
        "outputId": "f0efc009-1b9a-442c-a9c7-3f9d503367b7"
      },
      "execution_count": null,
      "outputs": [
        {
          "output_type": "stream",
          "name": "stdout",
          "text": [
            "odd\n",
            "None\n",
            "None\n",
            "[1, 2, 3, 4]\n"
          ]
        }
      ]
    },
    {
      "cell_type": "markdown",
      "source": [
        "variable Scope"
      ],
      "metadata": {
        "id": "pmUMiYaUYuig"
      }
    },
    {
      "cell_type": "code",
      "source": [
        "def g(y):\n",
        "  print(x)\n",
        "  print(x+1)\n",
        "x=5\n",
        "g(x)\n",
        "print(x)"
      ],
      "metadata": {
        "colab": {
          "base_uri": "https://localhost:8080/"
        },
        "id": "ufcU1fh0YwJ4",
        "outputId": "7ce2a42a-e912-43e2-8e40-d5aa73388dd9"
      },
      "execution_count": null,
      "outputs": [
        {
          "output_type": "stream",
          "name": "stdout",
          "text": [
            "5\n",
            "6\n",
            "5\n"
          ]
        }
      ]
    },
    {
      "cell_type": "code",
      "source": [
        "def f(y):\n",
        "  x=1\n",
        "  x+=1\n",
        "  print(x)\n",
        "x=5\n",
        "f(x)\n",
        "print(x)"
      ],
      "metadata": {
        "colab": {
          "base_uri": "https://localhost:8080/"
        },
        "id": "G0GQFkc4z0oU",
        "outputId": "cf1c5784-bf93-4ff4-ea78-468c55499af5"
      },
      "execution_count": null,
      "outputs": [
        {
          "output_type": "stream",
          "name": "stdout",
          "text": [
            "2\n",
            "5\n"
          ]
        }
      ]
    },
    {
      "cell_type": "code",
      "source": [
        "def f():\n",
        "  def g():\n",
        "    print(\"inside function g\")\n",
        "  g()\n",
        "  print(\"inside function f\")\n",
        "f()\n",
        "\n"
      ],
      "metadata": {
        "colab": {
          "base_uri": "https://localhost:8080/"
        },
        "id": "lJRPOwWEaptl",
        "outputId": "1bc14149-9c7a-4208-9d4e-f0ba1db0ad11"
      },
      "execution_count": null,
      "outputs": [
        {
          "output_type": "stream",
          "name": "stdout",
          "text": [
            "inside function g\n",
            "inside function f\n"
          ]
        }
      ]
    },
    {
      "cell_type": "code",
      "source": [
        "f()"
      ],
      "metadata": {
        "id": "dP6FQxsza-c7",
        "colab": {
          "base_uri": "https://localhost:8080/"
        },
        "outputId": "3dd2195b-d59a-44dd-cafb-5e941d92cf55"
      },
      "execution_count": null,
      "outputs": [
        {
          "output_type": "stream",
          "name": "stdout",
          "text": [
            "inside function g\n",
            "inside function f\n"
          ]
        }
      ]
    },
    {
      "cell_type": "code",
      "source": [
        "#Fucntions are 1st class citizen\n",
        "\n",
        "#type and id\n",
        "def square(num):\n",
        "  return num**2\n",
        "type(square)\n",
        "a=2\n",
        "type(a)\n",
        "id(square)"
      ],
      "metadata": {
        "colab": {
          "base_uri": "https://localhost:8080/"
        },
        "id": "K65hnVD5UDVu",
        "outputId": "0240e2f8-de2a-4b11-d437-ebbeb9f68db8"
      },
      "execution_count": null,
      "outputs": [
        {
          "output_type": "execute_result",
          "data": {
            "text/plain": [
              "133837510435008"
            ]
          },
          "metadata": {},
          "execution_count": 21
        }
      ]
    },
    {
      "cell_type": "code",
      "source": [
        "#reassign\n",
        "\n",
        "x=square\n",
        "id(x)"
      ],
      "metadata": {
        "colab": {
          "base_uri": "https://localhost:8080/"
        },
        "id": "WVvjfKQhUboZ",
        "outputId": "59a68aee-2dc8-474f-e535-570df6c8b685"
      },
      "execution_count": null,
      "outputs": [
        {
          "output_type": "execute_result",
          "data": {
            "text/plain": [
              "133837510433888"
            ]
          },
          "metadata": {},
          "execution_count": 19
        }
      ]
    },
    {
      "cell_type": "code",
      "source": [
        "#deleting a function\n",
        "\n",
        "del square"
      ],
      "metadata": {
        "id": "tbFuvimbUydM"
      },
      "execution_count": null,
      "outputs": []
    },
    {
      "cell_type": "code",
      "source": [
        "#storing\n",
        "L=[1,2,3,4,square]\n",
        "L[-1](3)\n"
      ],
      "metadata": {
        "colab": {
          "base_uri": "https://localhost:8080/"
        },
        "id": "U7LC8ueWU7tq",
        "outputId": "e0b5b6a3-4848-44c2-a903-b48ad7821d64"
      },
      "execution_count": null,
      "outputs": [
        {
          "output_type": "execute_result",
          "data": {
            "text/plain": [
              "9"
            ]
          },
          "metadata": {},
          "execution_count": 24
        }
      ]
    },
    {
      "cell_type": "code",
      "source": [
        "s={square}\n",
        "s"
      ],
      "metadata": {
        "colab": {
          "base_uri": "https://localhost:8080/"
        },
        "id": "m52KuIzJVYVG",
        "outputId": "47136a3a-aa63-447b-ce3b-0c6addfabe4e"
      },
      "execution_count": null,
      "outputs": [
        {
          "output_type": "execute_result",
          "data": {
            "text/plain": [
              "{<function __main__.square(num)>}"
            ]
          },
          "metadata": {},
          "execution_count": 27
        }
      ]
    },
    {
      "cell_type": "code",
      "source": [
        "#returning a function\n",
        "\n",
        "def f():\n",
        "  def x(a,b):\n",
        "    return a+b\n",
        "  return x\n",
        "val=f()(3,4)\n",
        "print(val)\n",
        "\n"
      ],
      "metadata": {
        "id": "8Rv-du0UWJg3"
      },
      "execution_count": null,
      "outputs": []
    },
    {
      "cell_type": "markdown",
      "source": [
        "#Lambda Function\n",
        "\n",
        "A lambda function is a small anonymous function."
      ],
      "metadata": {
        "id": "mqqNjM8AXDcg"
      }
    },
    {
      "cell_type": "code",
      "source": [
        "a= lambda a,b: a+b\n",
        "a(2,6)"
      ],
      "metadata": {
        "id": "WGJJ1hJGW-_b",
        "colab": {
          "base_uri": "https://localhost:8080/"
        },
        "outputId": "3f11106d-7635-4669-ac0c-dbe1127f49ad"
      },
      "execution_count": null,
      "outputs": [
        {
          "output_type": "execute_result",
          "data": {
            "text/plain": [
              "8"
            ]
          },
          "metadata": {},
          "execution_count": 4
        }
      ]
    },
    {
      "cell_type": "code",
      "source": [
        "#check if a string has 'a'\n",
        "\n",
        "a= lambda s:'a' in s\n",
        "a(\"Hello\")"
      ],
      "metadata": {
        "colab": {
          "base_uri": "https://localhost:8080/"
        },
        "id": "RH95tmbpVt_O",
        "outputId": "c5eda27b-69bc-4da8-865e-0bce083a4240"
      },
      "execution_count": null,
      "outputs": [
        {
          "output_type": "execute_result",
          "data": {
            "text/plain": [
              "False"
            ]
          },
          "metadata": {},
          "execution_count": 7
        }
      ]
    },
    {
      "cell_type": "code",
      "source": [
        "#odd or even\n",
        "a=lambda x:'even' if x%2== 0 else 'odd'\n",
        "a(6)"
      ],
      "metadata": {
        "colab": {
          "base_uri": "https://localhost:8080/",
          "height": 35
        },
        "id": "psn7HSfFV6bJ",
        "outputId": "3dad559f-44c1-457f-afbf-3d7202732f98"
      },
      "execution_count": null,
      "outputs": [
        {
          "output_type": "execute_result",
          "data": {
            "text/plain": [
              "'even'"
            ],
            "application/vnd.google.colaboratory.intrinsic+json": {
              "type": "string"
            }
          },
          "metadata": {},
          "execution_count": 8
        }
      ]
    },
    {
      "cell_type": "code",
      "source": [
        "#High order function example\n",
        "\n",
        "def square(x):\n",
        "  return x**2\n",
        "\n",
        "#HOF\n",
        "def transform(f,L):\n",
        "  output=[]\n",
        "  for i in L:\n",
        "    output.append(f(i))\n",
        "  print(output)\n",
        "\n",
        "L=[1,2,3,4,5]\n",
        "transform(square,L)"
      ],
      "metadata": {
        "colab": {
          "base_uri": "https://localhost:8080/"
        },
        "id": "9c5jD_J-WaHg",
        "outputId": "e35ed60b-9f0f-4602-f0f0-8e53cac25651"
      },
      "execution_count": null,
      "outputs": [
        {
          "output_type": "stream",
          "name": "stdout",
          "text": [
            "[1, 4, 9, 16, 25]\n"
          ]
        }
      ]
    },
    {
      "cell_type": "code",
      "source": [
        "L=[1,2,3,4,5]\n",
        "transform(lambda x:x**3,L)"
      ],
      "metadata": {
        "colab": {
          "base_uri": "https://localhost:8080/"
        },
        "id": "MbYlNn_6evcG",
        "outputId": "d8b13610-efc2-4677-a4b9-284ce51149a0"
      },
      "execution_count": null,
      "outputs": [
        {
          "output_type": "stream",
          "name": "stdout",
          "text": [
            "[1, 8, 27, 64, 125]\n"
          ]
        }
      ]
    },
    {
      "cell_type": "code",
      "source": [
        "#Map\n",
        "#Sqaure the items of a list\n",
        "\n",
        "list(map(lambda x:x**2,[1,2,3,4,5]))\n"
      ],
      "metadata": {
        "colab": {
          "base_uri": "https://localhost:8080/"
        },
        "id": "XPqnO9SkfLdo",
        "outputId": "b240cb35-08a2-417d-d333-3fdd97d9ac69"
      },
      "execution_count": null,
      "outputs": [
        {
          "output_type": "execute_result",
          "data": {
            "text/plain": [
              "[1, 4, 9, 16, 25]"
            ]
          },
          "metadata": {},
          "execution_count": 18
        }
      ]
    },
    {
      "cell_type": "code",
      "source": [
        "#odd/even labelling of list items\n",
        "L=[1,2,3,4,5]\n",
        "list(map(lambda x:'even' if x%2==0 else 'odd',L))"
      ],
      "metadata": {
        "colab": {
          "base_uri": "https://localhost:8080/"
        },
        "id": "-dCrPs_Gg7Du",
        "outputId": "da417ddc-2afe-4805-9378-a2d81e804ecc"
      },
      "execution_count": null,
      "outputs": [
        {
          "output_type": "execute_result",
          "data": {
            "text/plain": [
              "['odd', 'even', 'odd', 'even', 'odd']"
            ]
          },
          "metadata": {},
          "execution_count": 19
        }
      ]
    },
    {
      "cell_type": "code",
      "source": [
        "#fetch names from a list of dict\n",
        "\n",
        "users=[\n",
        "    {\n",
        "        'name':\"Bishal\",\n",
        "        'age':23,\n",
        "        \"gender\":\"male\"\n",
        "    },\n",
        "    {\n",
        "        'name':\"samba\",\n",
        "        'age':20,\n",
        "        \"gender\":\"male\"\n",
        "    },\n",
        "    {\n",
        "        'name':\"Droje\",\n",
        "        'age':25,\n",
        "        \"gender\":\"male\"\n",
        "    }\n",
        "]\n",
        "\n",
        "list(map(lambda users: users['gender'],users))"
      ],
      "metadata": {
        "colab": {
          "base_uri": "https://localhost:8080/"
        },
        "id": "GQAM_DN7grna",
        "outputId": "01ee7da9-f631-47e5-e8db-35778af1e605"
      },
      "execution_count": null,
      "outputs": [
        {
          "output_type": "execute_result",
          "data": {
            "text/plain": [
              "['male', 'male', 'male']"
            ]
          },
          "metadata": {},
          "execution_count": 24
        }
      ]
    },
    {
      "cell_type": "markdown",
      "source": [
        "Filter"
      ],
      "metadata": {
        "id": "3t_632LUjcwA"
      }
    },
    {
      "cell_type": "code",
      "source": [
        "#Numbers greater than 5\n",
        "L=[1,2,3,4,5,6,7]\n",
        "list(filter(lambda x:x>5,L))"
      ],
      "metadata": {
        "colab": {
          "base_uri": "https://localhost:8080/"
        },
        "id": "PgKrxJerjbqT",
        "outputId": "963337f1-4316-4be6-d787-3c71f6d52983"
      },
      "execution_count": null,
      "outputs": [
        {
          "output_type": "execute_result",
          "data": {
            "text/plain": [
              "[6, 7]"
            ]
          },
          "metadata": {},
          "execution_count": 26
        }
      ]
    },
    {
      "cell_type": "code",
      "source": [
        "#fetch fruits starting with 'a'\n",
        "\n",
        "fruits=['apple','guava','cherry']\n",
        "list(filter(lambda x:x.startswith('a'),fruits))"
      ],
      "metadata": {
        "colab": {
          "base_uri": "https://localhost:8080/"
        },
        "id": "eQ5zGC8qjsGE",
        "outputId": "5e6e34e0-531e-4ab3-a9fb-045d3163dff5"
      },
      "execution_count": null,
      "outputs": [
        {
          "output_type": "execute_result",
          "data": {
            "text/plain": [
              "['apple']"
            ]
          },
          "metadata": {},
          "execution_count": 27
        }
      ]
    },
    {
      "cell_type": "markdown",
      "source": [
        "Reduce"
      ],
      "metadata": {
        "id": "LaxJiX1wj9rM"
      }
    },
    {
      "cell_type": "code",
      "source": [
        "#sum of all items\n",
        "\n",
        "import functools\n",
        "functools.reduce(lambda x,y:x+y,[1,2,3,4,5])"
      ],
      "metadata": {
        "colab": {
          "base_uri": "https://localhost:8080/"
        },
        "id": "2db3P277lqzH",
        "outputId": "60f80019-38e4-460c-baf6-e0c6aa50b728"
      },
      "execution_count": null,
      "outputs": [
        {
          "output_type": "execute_result",
          "data": {
            "text/plain": [
              "15"
            ]
          },
          "metadata": {},
          "execution_count": 28
        }
      ]
    },
    {
      "cell_type": "code",
      "source": [
        "#find min\n",
        "\n",
        "import functools\n",
        "functools.reduce(lambda x,y :x if x < y else y,[42,12,43,12,43,10])"
      ],
      "metadata": {
        "colab": {
          "base_uri": "https://localhost:8080/"
        },
        "id": "HQugy-dgmEpM",
        "outputId": "7cbf6e21-e1e9-4028-de17-3b1456a992b3"
      },
      "execution_count": null,
      "outputs": [
        {
          "output_type": "execute_result",
          "data": {
            "text/plain": [
              "10"
            ]
          },
          "metadata": {},
          "execution_count": 31
        }
      ]
    }
  ]
}